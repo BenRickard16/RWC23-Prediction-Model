{
 "cells": [
  {
   "cell_type": "code",
   "execution_count": 1,
   "id": "2c933b97",
   "metadata": {
    "_cell_guid": "b1076dfc-b9ad-4769-8c92-a6c4dae69d19",
    "_uuid": "8f2839f25d086af736a60e9eeb907d3b93b6e0e5",
    "execution": {
     "iopub.execute_input": "2024-08-16T20:08:08.216535Z",
     "iopub.status.busy": "2024-08-16T20:08:08.216164Z",
     "iopub.status.idle": "2024-08-16T20:08:10.585674Z",
     "shell.execute_reply": "2024-08-16T20:08:10.584566Z"
    },
    "papermill": {
     "duration": 2.381015,
     "end_time": "2024-08-16T20:08:10.588352",
     "exception": false,
     "start_time": "2024-08-16T20:08:08.207337",
     "status": "completed"
    },
    "tags": []
   },
   "outputs": [],
   "source": [
    "import pandas as pd\n",
    "from sklearn.tree import DecisionTreeRegressor"
   ]
  },
  {
   "cell_type": "code",
   "execution_count": 2,
   "id": "0bcab970",
   "metadata": {
    "execution": {
     "iopub.execute_input": "2024-08-16T20:08:10.605378Z",
     "iopub.status.busy": "2024-08-16T20:08:10.604250Z",
     "iopub.status.idle": "2024-08-16T20:08:10.609654Z",
     "shell.execute_reply": "2024-08-16T20:08:10.608200Z"
    },
    "papermill": {
     "duration": 0.016379,
     "end_time": "2024-08-16T20:08:10.611854",
     "exception": false,
     "start_time": "2024-08-16T20:08:10.595475",
     "status": "completed"
    },
    "tags": []
   },
   "outputs": [],
   "source": [
    "path = \"/kaggle/input/england-rufc-results-2020-23/EnglandRUFCML.xlsx\""
   ]
  },
  {
   "cell_type": "code",
   "execution_count": 3,
   "id": "ec2b9090",
   "metadata": {
    "execution": {
     "iopub.execute_input": "2024-08-16T20:08:10.626978Z",
     "iopub.status.busy": "2024-08-16T20:08:10.626579Z",
     "iopub.status.idle": "2024-08-16T20:08:10.988116Z",
     "shell.execute_reply": "2024-08-16T20:08:10.987019Z"
    },
    "papermill": {
     "duration": 0.372091,
     "end_time": "2024-08-16T20:08:10.990690",
     "exception": false,
     "start_time": "2024-08-16T20:08:10.618599",
     "status": "completed"
    },
    "tags": []
   },
   "outputs": [],
   "source": [
    "df = pd.read_excel(path)"
   ]
  },
  {
   "cell_type": "code",
   "execution_count": 4,
   "id": "47c2d343",
   "metadata": {
    "execution": {
     "iopub.execute_input": "2024-08-16T20:08:11.006353Z",
     "iopub.status.busy": "2024-08-16T20:08:11.005802Z",
     "iopub.status.idle": "2024-08-16T20:08:11.029215Z",
     "shell.execute_reply": "2024-08-16T20:08:11.028133Z"
    },
    "papermill": {
     "duration": 0.033869,
     "end_time": "2024-08-16T20:08:11.031518",
     "exception": false,
     "start_time": "2024-08-16T20:08:10.997649",
     "status": "completed"
    },
    "tags": []
   },
   "outputs": [
    {
     "data": {
      "text/html": [
       "<div>\n",
       "<style scoped>\n",
       "    .dataframe tbody tr th:only-of-type {\n",
       "        vertical-align: middle;\n",
       "    }\n",
       "\n",
       "    .dataframe tbody tr th {\n",
       "        vertical-align: top;\n",
       "    }\n",
       "\n",
       "    .dataframe thead th {\n",
       "        text-align: right;\n",
       "    }\n",
       "</style>\n",
       "<table border=\"1\" class=\"dataframe\">\n",
       "  <thead>\n",
       "    <tr style=\"text-align: right;\">\n",
       "      <th></th>\n",
       "      <th>Margin</th>\n",
       "      <th>Opponent</th>\n",
       "      <th>Location</th>\n",
       "      <th>WrldRnk</th>\n",
       "      <th>OppWrldRnk</th>\n",
       "      <th>ResPrevOpp</th>\n",
       "      <th>ResPrevFixt</th>\n",
       "      <th>Year</th>\n",
       "    </tr>\n",
       "  </thead>\n",
       "  <tbody>\n",
       "    <tr>\n",
       "      <th>0</th>\n",
       "      <td>-7</td>\n",
       "      <td>France</td>\n",
       "      <td>A</td>\n",
       "      <td>3</td>\n",
       "      <td>7</td>\n",
       "      <td>-20</td>\n",
       "      <td>36</td>\n",
       "      <td>2020</td>\n",
       "    </tr>\n",
       "    <tr>\n",
       "      <th>1</th>\n",
       "      <td>7</td>\n",
       "      <td>Scotland</td>\n",
       "      <td>A</td>\n",
       "      <td>3</td>\n",
       "      <td>9</td>\n",
       "      <td>-7</td>\n",
       "      <td>0</td>\n",
       "      <td>2020</td>\n",
       "    </tr>\n",
       "    <tr>\n",
       "      <th>2</th>\n",
       "      <td>12</td>\n",
       "      <td>Ireland</td>\n",
       "      <td>H</td>\n",
       "      <td>3</td>\n",
       "      <td>4</td>\n",
       "      <td>7</td>\n",
       "      <td>42</td>\n",
       "      <td>2020</td>\n",
       "    </tr>\n",
       "    <tr>\n",
       "      <th>3</th>\n",
       "      <td>3</td>\n",
       "      <td>Wales</td>\n",
       "      <td>H</td>\n",
       "      <td>3</td>\n",
       "      <td>6</td>\n",
       "      <td>12</td>\n",
       "      <td>-8</td>\n",
       "      <td>2020</td>\n",
       "    </tr>\n",
       "    <tr>\n",
       "      <th>4</th>\n",
       "      <td>29</td>\n",
       "      <td>Italy</td>\n",
       "      <td>A</td>\n",
       "      <td>3</td>\n",
       "      <td>7</td>\n",
       "      <td>3</td>\n",
       "      <td>37</td>\n",
       "      <td>2020</td>\n",
       "    </tr>\n",
       "  </tbody>\n",
       "</table>\n",
       "</div>"
      ],
      "text/plain": [
       "   Margin  Opponent Location  WrldRnk  OppWrldRnk  ResPrevOpp  ResPrevFixt  \\\n",
       "0      -7    France        A        3           7         -20           36   \n",
       "1       7  Scotland        A        3           9          -7            0   \n",
       "2      12   Ireland        H        3           4           7           42   \n",
       "3       3     Wales        H        3           6          12           -8   \n",
       "4      29     Italy        A        3           7           3           37   \n",
       "\n",
       "   Year  \n",
       "0  2020  \n",
       "1  2020  \n",
       "2  2020  \n",
       "3  2020  \n",
       "4  2020  "
      ]
     },
     "execution_count": 4,
     "metadata": {},
     "output_type": "execute_result"
    }
   ],
   "source": [
    "df.head()"
   ]
  },
  {
   "cell_type": "code",
   "execution_count": 5,
   "id": "526f0fee",
   "metadata": {
    "execution": {
     "iopub.execute_input": "2024-08-16T20:08:11.047575Z",
     "iopub.status.busy": "2024-08-16T20:08:11.046774Z",
     "iopub.status.idle": "2024-08-16T20:08:11.053002Z",
     "shell.execute_reply": "2024-08-16T20:08:11.051811Z"
    },
    "papermill": {
     "duration": 0.01687,
     "end_time": "2024-08-16T20:08:11.055356",
     "exception": false,
     "start_time": "2024-08-16T20:08:11.038486",
     "status": "completed"
    },
    "tags": []
   },
   "outputs": [],
   "source": [
    "df = df.replace('A', 0)\n",
    "df = df.replace('H', 1)"
   ]
  },
  {
   "cell_type": "code",
   "execution_count": 6,
   "id": "93acbea4",
   "metadata": {
    "execution": {
     "iopub.execute_input": "2024-08-16T20:08:11.071545Z",
     "iopub.status.busy": "2024-08-16T20:08:11.071154Z",
     "iopub.status.idle": "2024-08-16T20:08:11.091973Z",
     "shell.execute_reply": "2024-08-16T20:08:11.090863Z"
    },
    "papermill": {
     "duration": 0.031528,
     "end_time": "2024-08-16T20:08:11.094316",
     "exception": false,
     "start_time": "2024-08-16T20:08:11.062788",
     "status": "completed"
    },
    "tags": []
   },
   "outputs": [],
   "source": [
    "df.OppWrldRnk = pd.qcut(df.OppWrldRnk,6)"
   ]
  },
  {
   "cell_type": "code",
   "execution_count": 7,
   "id": "6859436c",
   "metadata": {
    "execution": {
     "iopub.execute_input": "2024-08-16T20:08:11.110200Z",
     "iopub.status.busy": "2024-08-16T20:08:11.109455Z",
     "iopub.status.idle": "2024-08-16T20:08:11.116572Z",
     "shell.execute_reply": "2024-08-16T20:08:11.115542Z"
    },
    "papermill": {
     "duration": 0.017722,
     "end_time": "2024-08-16T20:08:11.118999",
     "exception": false,
     "start_time": "2024-08-16T20:08:11.101277",
     "status": "completed"
    },
    "tags": []
   },
   "outputs": [],
   "source": [
    "df['OppWrldRnk'] = df['OppWrldRnk'].apply(lambda x: x.mid)"
   ]
  },
  {
   "cell_type": "code",
   "execution_count": 8,
   "id": "9a99582a",
   "metadata": {
    "execution": {
     "iopub.execute_input": "2024-08-16T20:08:11.134831Z",
     "iopub.status.busy": "2024-08-16T20:08:11.134427Z",
     "iopub.status.idle": "2024-08-16T20:08:11.144168Z",
     "shell.execute_reply": "2024-08-16T20:08:11.143047Z"
    },
    "papermill": {
     "duration": 0.020311,
     "end_time": "2024-08-16T20:08:11.146419",
     "exception": false,
     "start_time": "2024-08-16T20:08:11.126108",
     "status": "completed"
    },
    "tags": []
   },
   "outputs": [
    {
     "data": {
      "text/plain": [
       "OppWrldRnk\n",
       "1.9995     9\n",
       "4.5       11\n",
       "6.5        6\n",
       "8.0        8\n",
       "10.5       5\n",
       "17.5       7\n",
       "Name: OppWrldRnk, dtype: int64"
      ]
     },
     "execution_count": 8,
     "metadata": {},
     "output_type": "execute_result"
    }
   ],
   "source": [
    "df.OppWrldRnk.groupby(df.OppWrldRnk).count()"
   ]
  },
  {
   "cell_type": "code",
   "execution_count": 9,
   "id": "2d537abc",
   "metadata": {
    "execution": {
     "iopub.execute_input": "2024-08-16T20:08:11.163304Z",
     "iopub.status.busy": "2024-08-16T20:08:11.162321Z",
     "iopub.status.idle": "2024-08-16T20:08:11.170733Z",
     "shell.execute_reply": "2024-08-16T20:08:11.169531Z"
    },
    "papermill": {
     "duration": 0.01947,
     "end_time": "2024-08-16T20:08:11.173105",
     "exception": false,
     "start_time": "2024-08-16T20:08:11.153635",
     "status": "completed"
    },
    "tags": []
   },
   "outputs": [],
   "source": [
    "df.ResPrevOpp = pd.qcut(df.ResPrevOpp,5)"
   ]
  },
  {
   "cell_type": "code",
   "execution_count": 10,
   "id": "8caf47c9",
   "metadata": {
    "execution": {
     "iopub.execute_input": "2024-08-16T20:08:11.189575Z",
     "iopub.status.busy": "2024-08-16T20:08:11.188648Z",
     "iopub.status.idle": "2024-08-16T20:08:11.195075Z",
     "shell.execute_reply": "2024-08-16T20:08:11.193980Z"
    },
    "papermill": {
     "duration": 0.01683,
     "end_time": "2024-08-16T20:08:11.197176",
     "exception": false,
     "start_time": "2024-08-16T20:08:11.180346",
     "status": "completed"
    },
    "tags": []
   },
   "outputs": [],
   "source": [
    "df['ResPrevOpp'] = df['ResPrevOpp'].apply(lambda x: x.mid)"
   ]
  },
  {
   "cell_type": "code",
   "execution_count": 11,
   "id": "df689f40",
   "metadata": {
    "execution": {
     "iopub.execute_input": "2024-08-16T20:08:11.213065Z",
     "iopub.status.busy": "2024-08-16T20:08:11.212682Z",
     "iopub.status.idle": "2024-08-16T20:08:11.221797Z",
     "shell.execute_reply": "2024-08-16T20:08:11.220812Z"
    },
    "papermill": {
     "duration": 0.019847,
     "end_time": "2024-08-16T20:08:11.224095",
     "exception": false,
     "start_time": "2024-08-16T20:08:11.204248",
     "status": "completed"
    },
    "tags": []
   },
   "outputs": [
    {
     "data": {
      "text/plain": [
       "ResPrevOpp\n",
       "-25.5005    10\n",
       "-3.5        10\n",
       "4.5          8\n",
       "12.5         9\n",
       "44.0         9\n",
       "Name: ResPrevOpp, dtype: int64"
      ]
     },
     "execution_count": 11,
     "metadata": {},
     "output_type": "execute_result"
    }
   ],
   "source": [
    "df.ResPrevOpp.groupby(df.ResPrevOpp).count()"
   ]
  },
  {
   "cell_type": "code",
   "execution_count": 12,
   "id": "f3a87eb1",
   "metadata": {
    "execution": {
     "iopub.execute_input": "2024-08-16T20:08:11.240881Z",
     "iopub.status.busy": "2024-08-16T20:08:11.239912Z",
     "iopub.status.idle": "2024-08-16T20:08:11.248958Z",
     "shell.execute_reply": "2024-08-16T20:08:11.247705Z"
    },
    "papermill": {
     "duration": 0.01984,
     "end_time": "2024-08-16T20:08:11.251236",
     "exception": false,
     "start_time": "2024-08-16T20:08:11.231396",
     "status": "completed"
    },
    "tags": []
   },
   "outputs": [],
   "source": [
    "df.ResPrevFixt = pd.qcut(df.ResPrevFixt,5)"
   ]
  },
  {
   "cell_type": "code",
   "execution_count": 13,
   "id": "b2f38f01",
   "metadata": {
    "execution": {
     "iopub.execute_input": "2024-08-16T20:08:11.267970Z",
     "iopub.status.busy": "2024-08-16T20:08:11.267591Z",
     "iopub.status.idle": "2024-08-16T20:08:11.273802Z",
     "shell.execute_reply": "2024-08-16T20:08:11.272786Z"
    },
    "papermill": {
     "duration": 0.017282,
     "end_time": "2024-08-16T20:08:11.276064",
     "exception": false,
     "start_time": "2024-08-16T20:08:11.258782",
     "status": "completed"
    },
    "tags": []
   },
   "outputs": [],
   "source": [
    "df['ResPrevFixt'] = df['ResPrevFixt'].apply(lambda x: x.mid)"
   ]
  },
  {
   "cell_type": "code",
   "execution_count": 14,
   "id": "9eaea49a",
   "metadata": {
    "execution": {
     "iopub.execute_input": "2024-08-16T20:08:11.291976Z",
     "iopub.status.busy": "2024-08-16T20:08:11.291593Z",
     "iopub.status.idle": "2024-08-16T20:08:11.300491Z",
     "shell.execute_reply": "2024-08-16T20:08:11.299366Z"
    },
    "papermill": {
     "duration": 0.019455,
     "end_time": "2024-08-16T20:08:11.302764",
     "exception": false,
     "start_time": "2024-08-16T20:08:11.283309",
     "status": "completed"
    },
    "tags": []
   },
   "outputs": [
    {
     "data": {
      "text/plain": [
       "ResPrevFixt\n",
       "-13.5005    10\n",
       "-2.0         9\n",
       "8.0          9\n",
       "23.0        10\n",
       "52.0         8\n",
       "Name: ResPrevFixt, dtype: int64"
      ]
     },
     "execution_count": 14,
     "metadata": {},
     "output_type": "execute_result"
    }
   ],
   "source": [
    "df.ResPrevFixt.groupby(df.ResPrevFixt).count()"
   ]
  },
  {
   "cell_type": "code",
   "execution_count": 15,
   "id": "831a1bf1",
   "metadata": {
    "execution": {
     "iopub.execute_input": "2024-08-16T20:08:11.319546Z",
     "iopub.status.busy": "2024-08-16T20:08:11.319126Z",
     "iopub.status.idle": "2024-08-16T20:08:11.328060Z",
     "shell.execute_reply": "2024-08-16T20:08:11.326924Z"
    },
    "papermill": {
     "duration": 0.020078,
     "end_time": "2024-08-16T20:08:11.330495",
     "exception": false,
     "start_time": "2024-08-16T20:08:11.310417",
     "status": "completed"
    },
    "tags": []
   },
   "outputs": [],
   "source": [
    "y=df.Margin\n",
    "feature_columns = [\"Location\", \"WrldRnk\", \"OppWrldRnk\", \"ResPrevOpp\", \"ResPrevFixt\"]\n",
    "X = df[feature_columns]"
   ]
  },
  {
   "cell_type": "code",
   "execution_count": 16,
   "id": "64663201",
   "metadata": {
    "execution": {
     "iopub.execute_input": "2024-08-16T20:08:11.347036Z",
     "iopub.status.busy": "2024-08-16T20:08:11.346618Z",
     "iopub.status.idle": "2024-08-16T20:08:11.364444Z",
     "shell.execute_reply": "2024-08-16T20:08:11.363282Z"
    },
    "papermill": {
     "duration": 0.02888,
     "end_time": "2024-08-16T20:08:11.366924",
     "exception": false,
     "start_time": "2024-08-16T20:08:11.338044",
     "status": "completed"
    },
    "tags": []
   },
   "outputs": [
    {
     "data": {
      "text/html": [
       "<style>#sk-container-id-1 {color: black;background-color: white;}#sk-container-id-1 pre{padding: 0;}#sk-container-id-1 div.sk-toggleable {background-color: white;}#sk-container-id-1 label.sk-toggleable__label {cursor: pointer;display: block;width: 100%;margin-bottom: 0;padding: 0.3em;box-sizing: border-box;text-align: center;}#sk-container-id-1 label.sk-toggleable__label-arrow:before {content: \"▸\";float: left;margin-right: 0.25em;color: #696969;}#sk-container-id-1 label.sk-toggleable__label-arrow:hover:before {color: black;}#sk-container-id-1 div.sk-estimator:hover label.sk-toggleable__label-arrow:before {color: black;}#sk-container-id-1 div.sk-toggleable__content {max-height: 0;max-width: 0;overflow: hidden;text-align: left;background-color: #f0f8ff;}#sk-container-id-1 div.sk-toggleable__content pre {margin: 0.2em;color: black;border-radius: 0.25em;background-color: #f0f8ff;}#sk-container-id-1 input.sk-toggleable__control:checked~div.sk-toggleable__content {max-height: 200px;max-width: 100%;overflow: auto;}#sk-container-id-1 input.sk-toggleable__control:checked~label.sk-toggleable__label-arrow:before {content: \"▾\";}#sk-container-id-1 div.sk-estimator input.sk-toggleable__control:checked~label.sk-toggleable__label {background-color: #d4ebff;}#sk-container-id-1 div.sk-label input.sk-toggleable__control:checked~label.sk-toggleable__label {background-color: #d4ebff;}#sk-container-id-1 input.sk-hidden--visually {border: 0;clip: rect(1px 1px 1px 1px);clip: rect(1px, 1px, 1px, 1px);height: 1px;margin: -1px;overflow: hidden;padding: 0;position: absolute;width: 1px;}#sk-container-id-1 div.sk-estimator {font-family: monospace;background-color: #f0f8ff;border: 1px dotted black;border-radius: 0.25em;box-sizing: border-box;margin-bottom: 0.5em;}#sk-container-id-1 div.sk-estimator:hover {background-color: #d4ebff;}#sk-container-id-1 div.sk-parallel-item::after {content: \"\";width: 100%;border-bottom: 1px solid gray;flex-grow: 1;}#sk-container-id-1 div.sk-label:hover label.sk-toggleable__label {background-color: #d4ebff;}#sk-container-id-1 div.sk-serial::before {content: \"\";position: absolute;border-left: 1px solid gray;box-sizing: border-box;top: 0;bottom: 0;left: 50%;z-index: 0;}#sk-container-id-1 div.sk-serial {display: flex;flex-direction: column;align-items: center;background-color: white;padding-right: 0.2em;padding-left: 0.2em;position: relative;}#sk-container-id-1 div.sk-item {position: relative;z-index: 1;}#sk-container-id-1 div.sk-parallel {display: flex;align-items: stretch;justify-content: center;background-color: white;position: relative;}#sk-container-id-1 div.sk-item::before, #sk-container-id-1 div.sk-parallel-item::before {content: \"\";position: absolute;border-left: 1px solid gray;box-sizing: border-box;top: 0;bottom: 0;left: 50%;z-index: -1;}#sk-container-id-1 div.sk-parallel-item {display: flex;flex-direction: column;z-index: 1;position: relative;background-color: white;}#sk-container-id-1 div.sk-parallel-item:first-child::after {align-self: flex-end;width: 50%;}#sk-container-id-1 div.sk-parallel-item:last-child::after {align-self: flex-start;width: 50%;}#sk-container-id-1 div.sk-parallel-item:only-child::after {width: 0;}#sk-container-id-1 div.sk-dashed-wrapped {border: 1px dashed gray;margin: 0 0.4em 0.5em 0.4em;box-sizing: border-box;padding-bottom: 0.4em;background-color: white;}#sk-container-id-1 div.sk-label label {font-family: monospace;font-weight: bold;display: inline-block;line-height: 1.2em;}#sk-container-id-1 div.sk-label-container {text-align: center;}#sk-container-id-1 div.sk-container {/* jupyter's `normalize.less` sets `[hidden] { display: none; }` but bootstrap.min.css set `[hidden] { display: none !important; }` so we also need the `!important` here to be able to override the default hidden behavior on the sphinx rendered scikit-learn.org. See: https://github.com/scikit-learn/scikit-learn/issues/21755 */display: inline-block !important;position: relative;}#sk-container-id-1 div.sk-text-repr-fallback {display: none;}</style><div id=\"sk-container-id-1\" class=\"sk-top-container\"><div class=\"sk-text-repr-fallback\"><pre>DecisionTreeRegressor()</pre><b>In a Jupyter environment, please rerun this cell to show the HTML representation or trust the notebook. <br />On GitHub, the HTML representation is unable to render, please try loading this page with nbviewer.org.</b></div><div class=\"sk-container\" hidden><div class=\"sk-item\"><div class=\"sk-estimator sk-toggleable\"><input class=\"sk-toggleable__control sk-hidden--visually\" id=\"sk-estimator-id-1\" type=\"checkbox\" checked><label for=\"sk-estimator-id-1\" class=\"sk-toggleable__label sk-toggleable__label-arrow\">DecisionTreeRegressor</label><div class=\"sk-toggleable__content\"><pre>DecisionTreeRegressor()</pre></div></div></div></div></div>"
      ],
      "text/plain": [
       "DecisionTreeRegressor()"
      ]
     },
     "execution_count": 16,
     "metadata": {},
     "output_type": "execute_result"
    }
   ],
   "source": [
    "rugby_model = DecisionTreeRegressor()\n",
    "rugby_model.fit(X,y)"
   ]
  },
  {
   "cell_type": "code",
   "execution_count": 17,
   "id": "288e918a",
   "metadata": {
    "execution": {
     "iopub.execute_input": "2024-08-16T20:08:11.383791Z",
     "iopub.status.busy": "2024-08-16T20:08:11.383429Z",
     "iopub.status.idle": "2024-08-16T20:08:11.388004Z",
     "shell.execute_reply": "2024-08-16T20:08:11.386989Z"
    },
    "papermill": {
     "duration": 0.015487,
     "end_time": "2024-08-16T20:08:11.390149",
     "exception": false,
     "start_time": "2024-08-16T20:08:11.374662",
     "status": "completed"
    },
    "tags": []
   },
   "outputs": [],
   "source": [
    "from sklearn.model_selection import train_test_split"
   ]
  },
  {
   "cell_type": "code",
   "execution_count": 18,
   "id": "767512f3",
   "metadata": {
    "execution": {
     "iopub.execute_input": "2024-08-16T20:08:11.406826Z",
     "iopub.status.busy": "2024-08-16T20:08:11.406434Z",
     "iopub.status.idle": "2024-08-16T20:08:11.414157Z",
     "shell.execute_reply": "2024-08-16T20:08:11.413029Z"
    },
    "papermill": {
     "duration": 0.018654,
     "end_time": "2024-08-16T20:08:11.416449",
     "exception": false,
     "start_time": "2024-08-16T20:08:11.397795",
     "status": "completed"
    },
    "tags": []
   },
   "outputs": [],
   "source": [
    "train_X, val_X, train_y, val_y = train_test_split(X,y, random_state=1)"
   ]
  },
  {
   "cell_type": "code",
   "execution_count": 19,
   "id": "1606e26b",
   "metadata": {
    "execution": {
     "iopub.execute_input": "2024-08-16T20:08:11.433303Z",
     "iopub.status.busy": "2024-08-16T20:08:11.432863Z",
     "iopub.status.idle": "2024-08-16T20:08:11.444559Z",
     "shell.execute_reply": "2024-08-16T20:08:11.443603Z"
    },
    "papermill": {
     "duration": 0.022725,
     "end_time": "2024-08-16T20:08:11.446728",
     "exception": false,
     "start_time": "2024-08-16T20:08:11.424003",
     "status": "completed"
    },
    "tags": []
   },
   "outputs": [
    {
     "data": {
      "text/html": [
       "<style>#sk-container-id-2 {color: black;background-color: white;}#sk-container-id-2 pre{padding: 0;}#sk-container-id-2 div.sk-toggleable {background-color: white;}#sk-container-id-2 label.sk-toggleable__label {cursor: pointer;display: block;width: 100%;margin-bottom: 0;padding: 0.3em;box-sizing: border-box;text-align: center;}#sk-container-id-2 label.sk-toggleable__label-arrow:before {content: \"▸\";float: left;margin-right: 0.25em;color: #696969;}#sk-container-id-2 label.sk-toggleable__label-arrow:hover:before {color: black;}#sk-container-id-2 div.sk-estimator:hover label.sk-toggleable__label-arrow:before {color: black;}#sk-container-id-2 div.sk-toggleable__content {max-height: 0;max-width: 0;overflow: hidden;text-align: left;background-color: #f0f8ff;}#sk-container-id-2 div.sk-toggleable__content pre {margin: 0.2em;color: black;border-radius: 0.25em;background-color: #f0f8ff;}#sk-container-id-2 input.sk-toggleable__control:checked~div.sk-toggleable__content {max-height: 200px;max-width: 100%;overflow: auto;}#sk-container-id-2 input.sk-toggleable__control:checked~label.sk-toggleable__label-arrow:before {content: \"▾\";}#sk-container-id-2 div.sk-estimator input.sk-toggleable__control:checked~label.sk-toggleable__label {background-color: #d4ebff;}#sk-container-id-2 div.sk-label input.sk-toggleable__control:checked~label.sk-toggleable__label {background-color: #d4ebff;}#sk-container-id-2 input.sk-hidden--visually {border: 0;clip: rect(1px 1px 1px 1px);clip: rect(1px, 1px, 1px, 1px);height: 1px;margin: -1px;overflow: hidden;padding: 0;position: absolute;width: 1px;}#sk-container-id-2 div.sk-estimator {font-family: monospace;background-color: #f0f8ff;border: 1px dotted black;border-radius: 0.25em;box-sizing: border-box;margin-bottom: 0.5em;}#sk-container-id-2 div.sk-estimator:hover {background-color: #d4ebff;}#sk-container-id-2 div.sk-parallel-item::after {content: \"\";width: 100%;border-bottom: 1px solid gray;flex-grow: 1;}#sk-container-id-2 div.sk-label:hover label.sk-toggleable__label {background-color: #d4ebff;}#sk-container-id-2 div.sk-serial::before {content: \"\";position: absolute;border-left: 1px solid gray;box-sizing: border-box;top: 0;bottom: 0;left: 50%;z-index: 0;}#sk-container-id-2 div.sk-serial {display: flex;flex-direction: column;align-items: center;background-color: white;padding-right: 0.2em;padding-left: 0.2em;position: relative;}#sk-container-id-2 div.sk-item {position: relative;z-index: 1;}#sk-container-id-2 div.sk-parallel {display: flex;align-items: stretch;justify-content: center;background-color: white;position: relative;}#sk-container-id-2 div.sk-item::before, #sk-container-id-2 div.sk-parallel-item::before {content: \"\";position: absolute;border-left: 1px solid gray;box-sizing: border-box;top: 0;bottom: 0;left: 50%;z-index: -1;}#sk-container-id-2 div.sk-parallel-item {display: flex;flex-direction: column;z-index: 1;position: relative;background-color: white;}#sk-container-id-2 div.sk-parallel-item:first-child::after {align-self: flex-end;width: 50%;}#sk-container-id-2 div.sk-parallel-item:last-child::after {align-self: flex-start;width: 50%;}#sk-container-id-2 div.sk-parallel-item:only-child::after {width: 0;}#sk-container-id-2 div.sk-dashed-wrapped {border: 1px dashed gray;margin: 0 0.4em 0.5em 0.4em;box-sizing: border-box;padding-bottom: 0.4em;background-color: white;}#sk-container-id-2 div.sk-label label {font-family: monospace;font-weight: bold;display: inline-block;line-height: 1.2em;}#sk-container-id-2 div.sk-label-container {text-align: center;}#sk-container-id-2 div.sk-container {/* jupyter's `normalize.less` sets `[hidden] { display: none; }` but bootstrap.min.css set `[hidden] { display: none !important; }` so we also need the `!important` here to be able to override the default hidden behavior on the sphinx rendered scikit-learn.org. See: https://github.com/scikit-learn/scikit-learn/issues/21755 */display: inline-block !important;position: relative;}#sk-container-id-2 div.sk-text-repr-fallback {display: none;}</style><div id=\"sk-container-id-2\" class=\"sk-top-container\"><div class=\"sk-text-repr-fallback\"><pre>DecisionTreeRegressor(random_state=1)</pre><b>In a Jupyter environment, please rerun this cell to show the HTML representation or trust the notebook. <br />On GitHub, the HTML representation is unable to render, please try loading this page with nbviewer.org.</b></div><div class=\"sk-container\" hidden><div class=\"sk-item\"><div class=\"sk-estimator sk-toggleable\"><input class=\"sk-toggleable__control sk-hidden--visually\" id=\"sk-estimator-id-2\" type=\"checkbox\" checked><label for=\"sk-estimator-id-2\" class=\"sk-toggleable__label sk-toggleable__label-arrow\">DecisionTreeRegressor</label><div class=\"sk-toggleable__content\"><pre>DecisionTreeRegressor(random_state=1)</pre></div></div></div></div></div>"
      ],
      "text/plain": [
       "DecisionTreeRegressor(random_state=1)"
      ]
     },
     "execution_count": 19,
     "metadata": {},
     "output_type": "execute_result"
    }
   ],
   "source": [
    "rugby_model=DecisionTreeRegressor(random_state=1)\n",
    "rugby_model.fit(train_X, train_y)"
   ]
  },
  {
   "cell_type": "code",
   "execution_count": 20,
   "id": "d0bcd549",
   "metadata": {
    "execution": {
     "iopub.execute_input": "2024-08-16T20:08:11.464320Z",
     "iopub.status.busy": "2024-08-16T20:08:11.463496Z",
     "iopub.status.idle": "2024-08-16T20:08:11.472176Z",
     "shell.execute_reply": "2024-08-16T20:08:11.471064Z"
    },
    "papermill": {
     "duration": 0.020032,
     "end_time": "2024-08-16T20:08:11.474569",
     "exception": false,
     "start_time": "2024-08-16T20:08:11.454537",
     "status": "completed"
    },
    "tags": []
   },
   "outputs": [
    {
     "name": "stdout",
     "output_type": "stream",
     "text": [
      "[ 10.   1.  29.   7.   1.  33. -11.  -6. -11.  17. -11.   8.]\n"
     ]
    }
   ],
   "source": [
    "val_predictions = rugby_model.predict(val_X)\n",
    "print(val_predictions)"
   ]
  },
  {
   "cell_type": "code",
   "execution_count": 21,
   "id": "60ac7052",
   "metadata": {
    "execution": {
     "iopub.execute_input": "2024-08-16T20:08:11.492670Z",
     "iopub.status.busy": "2024-08-16T20:08:11.492294Z",
     "iopub.status.idle": "2024-08-16T20:08:11.497404Z",
     "shell.execute_reply": "2024-08-16T20:08:11.496274Z"
    },
    "papermill": {
     "duration": 0.016908,
     "end_time": "2024-08-16T20:08:11.499603",
     "exception": false,
     "start_time": "2024-08-16T20:08:11.482695",
     "status": "completed"
    },
    "tags": []
   },
   "outputs": [],
   "source": [
    "from sklearn.metrics import mean_absolute_error"
   ]
  },
  {
   "cell_type": "code",
   "execution_count": 22,
   "id": "eaa96723",
   "metadata": {
    "execution": {
     "iopub.execute_input": "2024-08-16T20:08:11.518335Z",
     "iopub.status.busy": "2024-08-16T20:08:11.517781Z",
     "iopub.status.idle": "2024-08-16T20:08:11.526883Z",
     "shell.execute_reply": "2024-08-16T20:08:11.525362Z"
    },
    "papermill": {
     "duration": 0.02201,
     "end_time": "2024-08-16T20:08:11.529386",
     "exception": false,
     "start_time": "2024-08-16T20:08:11.507376",
     "status": "completed"
    },
    "tags": []
   },
   "outputs": [
    {
     "name": "stdout",
     "output_type": "stream",
     "text": [
      "18.666666666666668\n"
     ]
    }
   ],
   "source": [
    "val_mae = mean_absolute_error(val_y, val_predictions)\n",
    "print(val_mae)"
   ]
  },
  {
   "cell_type": "code",
   "execution_count": 23,
   "id": "ba649046",
   "metadata": {
    "execution": {
     "iopub.execute_input": "2024-08-16T20:08:11.551440Z",
     "iopub.status.busy": "2024-08-16T20:08:11.550287Z",
     "iopub.status.idle": "2024-08-16T20:08:11.558976Z",
     "shell.execute_reply": "2024-08-16T20:08:11.557514Z"
    },
    "papermill": {
     "duration": 0.021198,
     "end_time": "2024-08-16T20:08:11.561890",
     "exception": false,
     "start_time": "2024-08-16T20:08:11.540692",
     "status": "completed"
    },
    "tags": []
   },
   "outputs": [],
   "source": [
    "def get_mae(max_leaf_nodes, train_X, val_X, train_y, val_y):\n",
    "    model = DecisionTreeRegressor(max_leaf_nodes=max_leaf_nodes, random_state=0)\n",
    "    model.fit(train_X, train_y)\n",
    "    preds_val = model.predict(val_X)\n",
    "    mae = mean_absolute_error(val_y, preds_val)\n",
    "    return mae"
   ]
  },
  {
   "cell_type": "code",
   "execution_count": 24,
   "id": "f337896c",
   "metadata": {
    "execution": {
     "iopub.execute_input": "2024-08-16T20:08:11.584425Z",
     "iopub.status.busy": "2024-08-16T20:08:11.584033Z",
     "iopub.status.idle": "2024-08-16T20:08:11.636127Z",
     "shell.execute_reply": "2024-08-16T20:08:11.635034Z"
    },
    "papermill": {
     "duration": 0.063881,
     "end_time": "2024-08-16T20:08:11.638623",
     "exception": false,
     "start_time": "2024-08-16T20:08:11.574742",
     "status": "completed"
    },
    "tags": []
   },
   "outputs": [
    {
     "name": "stdout",
     "output_type": "stream",
     "text": [
      "Max lead nodes: 2 \t\t Mean Absolute Error: 16\n",
      "Max lead nodes: 3 \t\t Mean Absolute Error: 16\n",
      "Max lead nodes: 4 \t\t Mean Absolute Error: 17\n",
      "Max lead nodes: 5 \t\t Mean Absolute Error: 17\n",
      "Max lead nodes: 6 \t\t Mean Absolute Error: 16\n",
      "Max lead nodes: 7 \t\t Mean Absolute Error: 16\n",
      "Max lead nodes: 8 \t\t Mean Absolute Error: 16\n",
      "Max lead nodes: 9 \t\t Mean Absolute Error: 16\n",
      "Max lead nodes: 10 \t\t Mean Absolute Error: 17\n"
     ]
    }
   ],
   "source": [
    "candidate_max_leaf_nodes = [2,3,4,5,6,7,8,9,10]\n",
    "\n",
    "for vals in candidate_max_leaf_nodes:\n",
    "    my_mae = get_mae(vals, train_X, val_X, train_y, val_y)\n",
    "    print(\"Max lead nodes: %d \\t\\t Mean Absolute Error: %d\" %(vals, my_mae))"
   ]
  },
  {
   "cell_type": "code",
   "execution_count": 25,
   "id": "4169ce74",
   "metadata": {
    "execution": {
     "iopub.execute_input": "2024-08-16T20:08:11.661276Z",
     "iopub.status.busy": "2024-08-16T20:08:11.660702Z",
     "iopub.status.idle": "2024-08-16T20:08:11.674043Z",
     "shell.execute_reply": "2024-08-16T20:08:11.672987Z"
    },
    "papermill": {
     "duration": 0.029684,
     "end_time": "2024-08-16T20:08:11.676653",
     "exception": false,
     "start_time": "2024-08-16T20:08:11.646969",
     "status": "completed"
    },
    "tags": []
   },
   "outputs": [
    {
     "data": {
      "text/html": [
       "<style>#sk-container-id-3 {color: black;background-color: white;}#sk-container-id-3 pre{padding: 0;}#sk-container-id-3 div.sk-toggleable {background-color: white;}#sk-container-id-3 label.sk-toggleable__label {cursor: pointer;display: block;width: 100%;margin-bottom: 0;padding: 0.3em;box-sizing: border-box;text-align: center;}#sk-container-id-3 label.sk-toggleable__label-arrow:before {content: \"▸\";float: left;margin-right: 0.25em;color: #696969;}#sk-container-id-3 label.sk-toggleable__label-arrow:hover:before {color: black;}#sk-container-id-3 div.sk-estimator:hover label.sk-toggleable__label-arrow:before {color: black;}#sk-container-id-3 div.sk-toggleable__content {max-height: 0;max-width: 0;overflow: hidden;text-align: left;background-color: #f0f8ff;}#sk-container-id-3 div.sk-toggleable__content pre {margin: 0.2em;color: black;border-radius: 0.25em;background-color: #f0f8ff;}#sk-container-id-3 input.sk-toggleable__control:checked~div.sk-toggleable__content {max-height: 200px;max-width: 100%;overflow: auto;}#sk-container-id-3 input.sk-toggleable__control:checked~label.sk-toggleable__label-arrow:before {content: \"▾\";}#sk-container-id-3 div.sk-estimator input.sk-toggleable__control:checked~label.sk-toggleable__label {background-color: #d4ebff;}#sk-container-id-3 div.sk-label input.sk-toggleable__control:checked~label.sk-toggleable__label {background-color: #d4ebff;}#sk-container-id-3 input.sk-hidden--visually {border: 0;clip: rect(1px 1px 1px 1px);clip: rect(1px, 1px, 1px, 1px);height: 1px;margin: -1px;overflow: hidden;padding: 0;position: absolute;width: 1px;}#sk-container-id-3 div.sk-estimator {font-family: monospace;background-color: #f0f8ff;border: 1px dotted black;border-radius: 0.25em;box-sizing: border-box;margin-bottom: 0.5em;}#sk-container-id-3 div.sk-estimator:hover {background-color: #d4ebff;}#sk-container-id-3 div.sk-parallel-item::after {content: \"\";width: 100%;border-bottom: 1px solid gray;flex-grow: 1;}#sk-container-id-3 div.sk-label:hover label.sk-toggleable__label {background-color: #d4ebff;}#sk-container-id-3 div.sk-serial::before {content: \"\";position: absolute;border-left: 1px solid gray;box-sizing: border-box;top: 0;bottom: 0;left: 50%;z-index: 0;}#sk-container-id-3 div.sk-serial {display: flex;flex-direction: column;align-items: center;background-color: white;padding-right: 0.2em;padding-left: 0.2em;position: relative;}#sk-container-id-3 div.sk-item {position: relative;z-index: 1;}#sk-container-id-3 div.sk-parallel {display: flex;align-items: stretch;justify-content: center;background-color: white;position: relative;}#sk-container-id-3 div.sk-item::before, #sk-container-id-3 div.sk-parallel-item::before {content: \"\";position: absolute;border-left: 1px solid gray;box-sizing: border-box;top: 0;bottom: 0;left: 50%;z-index: -1;}#sk-container-id-3 div.sk-parallel-item {display: flex;flex-direction: column;z-index: 1;position: relative;background-color: white;}#sk-container-id-3 div.sk-parallel-item:first-child::after {align-self: flex-end;width: 50%;}#sk-container-id-3 div.sk-parallel-item:last-child::after {align-self: flex-start;width: 50%;}#sk-container-id-3 div.sk-parallel-item:only-child::after {width: 0;}#sk-container-id-3 div.sk-dashed-wrapped {border: 1px dashed gray;margin: 0 0.4em 0.5em 0.4em;box-sizing: border-box;padding-bottom: 0.4em;background-color: white;}#sk-container-id-3 div.sk-label label {font-family: monospace;font-weight: bold;display: inline-block;line-height: 1.2em;}#sk-container-id-3 div.sk-label-container {text-align: center;}#sk-container-id-3 div.sk-container {/* jupyter's `normalize.less` sets `[hidden] { display: none; }` but bootstrap.min.css set `[hidden] { display: none !important; }` so we also need the `!important` here to be able to override the default hidden behavior on the sphinx rendered scikit-learn.org. See: https://github.com/scikit-learn/scikit-learn/issues/21755 */display: inline-block !important;position: relative;}#sk-container-id-3 div.sk-text-repr-fallback {display: none;}</style><div id=\"sk-container-id-3\" class=\"sk-top-container\"><div class=\"sk-text-repr-fallback\"><pre>DecisionTreeRegressor(max_leaf_nodes=9, random_state=0)</pre><b>In a Jupyter environment, please rerun this cell to show the HTML representation or trust the notebook. <br />On GitHub, the HTML representation is unable to render, please try loading this page with nbviewer.org.</b></div><div class=\"sk-container\" hidden><div class=\"sk-item\"><div class=\"sk-estimator sk-toggleable\"><input class=\"sk-toggleable__control sk-hidden--visually\" id=\"sk-estimator-id-3\" type=\"checkbox\" checked><label for=\"sk-estimator-id-3\" class=\"sk-toggleable__label sk-toggleable__label-arrow\">DecisionTreeRegressor</label><div class=\"sk-toggleable__content\"><pre>DecisionTreeRegressor(max_leaf_nodes=9, random_state=0)</pre></div></div></div></div></div>"
      ],
      "text/plain": [
       "DecisionTreeRegressor(max_leaf_nodes=9, random_state=0)"
      ]
     },
     "execution_count": 25,
     "metadata": {},
     "output_type": "execute_result"
    }
   ],
   "source": [
    "final_model = DecisionTreeRegressor(max_leaf_nodes=9, random_state=0)\n",
    "final_model.fit(X,y)"
   ]
  },
  {
   "cell_type": "markdown",
   "id": "6a5d5928",
   "metadata": {
    "papermill": {
     "duration": 0.012376,
     "end_time": "2024-08-16T20:08:11.699551",
     "exception": false,
     "start_time": "2024-08-16T20:08:11.687175",
     "status": "completed"
    },
    "tags": []
   },
   "source": [
    "Predicting the result of the England vs Argentina opening game..."
   ]
  },
  {
   "cell_type": "code",
   "execution_count": 26,
   "id": "09ea6f6f",
   "metadata": {
    "execution": {
     "iopub.execute_input": "2024-08-16T20:08:11.720003Z",
     "iopub.status.busy": "2024-08-16T20:08:11.718781Z",
     "iopub.status.idle": "2024-08-16T20:08:11.725524Z",
     "shell.execute_reply": "2024-08-16T20:08:11.724392Z"
    },
    "papermill": {
     "duration": 0.018891,
     "end_time": "2024-08-16T20:08:11.728115",
     "exception": false,
     "start_time": "2024-08-16T20:08:11.709224",
     "status": "completed"
    },
    "tags": []
   },
   "outputs": [],
   "source": [
    "new_data = pd.DataFrame({'Location': [0],\n",
    "                         'WrldRnk': [5],\n",
    "                        'OppWrldRnk': [6],\n",
    "                        'ResPrevOpp': [12.5],\n",
    "                        'ResPrevFixt': [-2]})"
   ]
  },
  {
   "cell_type": "markdown",
   "id": "4201cf87",
   "metadata": {
    "papermill": {
     "duration": 0.007961,
     "end_time": "2024-08-16T20:08:11.744285",
     "exception": false,
     "start_time": "2024-08-16T20:08:11.736324",
     "status": "completed"
    },
    "tags": []
   },
   "source": []
  },
  {
   "cell_type": "code",
   "execution_count": 27,
   "id": "f1fdae23",
   "metadata": {
    "execution": {
     "iopub.execute_input": "2024-08-16T20:08:11.762339Z",
     "iopub.status.busy": "2024-08-16T20:08:11.761873Z",
     "iopub.status.idle": "2024-08-16T20:08:11.771131Z",
     "shell.execute_reply": "2024-08-16T20:08:11.770086Z"
    },
    "papermill": {
     "duration": 0.021052,
     "end_time": "2024-08-16T20:08:11.773445",
     "exception": false,
     "start_time": "2024-08-16T20:08:11.752393",
     "status": "completed"
    },
    "tags": []
   },
   "outputs": [
    {
     "data": {
      "text/plain": [
       "array([1.4])"
      ]
     },
     "execution_count": 27,
     "metadata": {},
     "output_type": "execute_result"
    }
   ],
   "source": [
    "final_model.predict(new_data)"
   ]
  },
  {
   "cell_type": "markdown",
   "id": "f69b3418",
   "metadata": {
    "papermill": {
     "duration": 0.007742,
     "end_time": "2024-08-16T20:08:11.789471",
     "exception": false,
     "start_time": "2024-08-16T20:08:11.781729",
     "status": "completed"
    },
    "tags": []
   },
   "source": [
    "Prediction: England by 1.4 points"
   ]
  }
 ],
 "metadata": {
  "kaggle": {
   "accelerator": "none",
   "dataSources": [
    {
     "datasetId": 3910151,
     "sourceId": 6796565,
     "sourceType": "datasetVersion"
    }
   ],
   "dockerImageVersionId": 30558,
   "isGpuEnabled": false,
   "isInternetEnabled": true,
   "language": "python",
   "sourceType": "notebook"
  },
  "kernelspec": {
   "display_name": "Python 3",
   "language": "python",
   "name": "python3"
  },
  "language_info": {
   "codemirror_mode": {
    "name": "ipython",
    "version": 3
   },
   "file_extension": ".py",
   "mimetype": "text/x-python",
   "name": "python",
   "nbconvert_exporter": "python",
   "pygments_lexer": "ipython3",
   "version": "3.10.12"
  },
  "papermill": {
   "default_parameters": {},
   "duration": 8.002182,
   "end_time": "2024-08-16T20:08:12.418293",
   "environment_variables": {},
   "exception": null,
   "input_path": "__notebook__.ipynb",
   "output_path": "__notebook__.ipynb",
   "parameters": {},
   "start_time": "2024-08-16T20:08:04.416111",
   "version": "2.4.0"
  }
 },
 "nbformat": 4,
 "nbformat_minor": 5
}
